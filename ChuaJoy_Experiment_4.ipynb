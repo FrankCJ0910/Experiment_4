{
 "cells": [
  {
   "cell_type": "markdown",
   "id": "c2ad791f-d291-4d92-9ca0-98c25114a6ff",
   "metadata": {},
   "source": [
    "# Experiment 4"
   ]
  },
  {
   "cell_type": "markdown",
   "id": "5dfb6f47-d35d-46a9-a201-e40882739f05",
   "metadata": {},
   "source": [
    "Import pandas and matlab libraries"
   ]
  },
  {
   "cell_type": "code",
   "execution_count": 3,
   "id": "291a94b7-a191-4a5e-aff6-f75a4feac08a",
   "metadata": {},
   "outputs": [],
   "source": [
    "import pandas as pd\n",
    "import matplotlib.pyplot as plt"
   ]
  },
  {
   "cell_type": "markdown",
   "id": "efff3795-deec-4f3d-ae46-9f41048e871d",
   "metadata": {},
   "source": [
    "Load the given excel into a variable named BoardScores"
   ]
  },
  {
   "cell_type": "code",
   "execution_count": 5,
   "id": "c6c36fe6-6959-47a8-93dc-4ba9005823fe",
   "metadata": {},
   "outputs": [],
   "source": [
    "BoardScores = pd.read_excel('board2.xlsx')"
   ]
  },
  {
   "cell_type": "markdown",
   "id": "e0eeb551-82a4-4d72-b08c-9dd420eaf505",
   "metadata": {},
   "source": [
    "Using .loc() with multiple parameters display the wanted output of Students who have scored higher than 70 in electronics and lives in luzon and display their name, GEAS and electronics scores"
   ]
  },
  {
   "cell_type": "code",
   "execution_count": 7,
   "id": "64b491b5-03c0-4c34-99c3-ce7be9aa63d2",
   "metadata": {},
   "outputs": [
    {
     "data": {
      "text/html": [
       "<div>\n",
       "<style scoped>\n",
       "    .dataframe tbody tr th:only-of-type {\n",
       "        vertical-align: middle;\n",
       "    }\n",
       "\n",
       "    .dataframe tbody tr th {\n",
       "        vertical-align: top;\n",
       "    }\n",
       "\n",
       "    .dataframe thead th {\n",
       "        text-align: right;\n",
       "    }\n",
       "</style>\n",
       "<table border=\"1\" class=\"dataframe\">\n",
       "  <thead>\n",
       "    <tr style=\"text-align: right;\">\n",
       "      <th></th>\n",
       "      <th>Name</th>\n",
       "      <th>GEAS</th>\n",
       "      <th>Electronics</th>\n",
       "    </tr>\n",
       "  </thead>\n",
       "  <tbody>\n",
       "    <tr>\n",
       "      <th>0</th>\n",
       "      <td>S1</td>\n",
       "      <td>75</td>\n",
       "      <td>89</td>\n",
       "    </tr>\n",
       "    <tr>\n",
       "      <th>7</th>\n",
       "      <td>S8</td>\n",
       "      <td>64</td>\n",
       "      <td>81</td>\n",
       "    </tr>\n",
       "    <tr>\n",
       "      <th>29</th>\n",
       "      <td>S30</td>\n",
       "      <td>57</td>\n",
       "      <td>81</td>\n",
       "    </tr>\n",
       "  </tbody>\n",
       "</table>\n",
       "</div>"
      ],
      "text/plain": [
       "   Name  GEAS  Electronics\n",
       "0    S1    75           89\n",
       "7    S8    64           81\n",
       "29  S30    57           81"
      ]
     },
     "execution_count": 7,
     "metadata": {},
     "output_type": "execute_result"
    }
   ],
   "source": [
    "Instru = BoardScores.loc[(BoardScores['Electronics']>70)&\n",
    "                         (BoardScores['Hometown']=='Luzon')&\n",
    "                         (BoardScores['Track']=='Instrumentation')\n",
    "                         ,['Name','GEAS','Electronics']]\n",
    "Instru"
   ]
  },
  {
   "cell_type": "markdown",
   "id": "52d72f08-432e-4b77-b088-3fd358136c51",
   "metadata": {},
   "source": [
    "To make the following parts easier add new column that are the average scores of each student"
   ]
  },
  {
   "cell_type": "code",
   "execution_count": 9,
   "id": "e0a5bfef-6636-4186-91d8-8945b152912b",
   "metadata": {},
   "outputs": [],
   "source": [
    "BoardScores['Average'] = (BoardScores.Math+BoardScores.Electronics+BoardScores.GEAS+BoardScores.Communication)/4"
   ]
  },
  {
   "cell_type": "markdown",
   "id": "6a4a5af2-e8c2-4655-82f7-a956be1c4e42",
   "metadata": {},
   "source": [
    "Same as before but with different parameters"
   ]
  },
  {
   "cell_type": "code",
   "execution_count": 11,
   "id": "e58f0c81-7aee-4be0-b196-08e72301a307",
   "metadata": {},
   "outputs": [
    {
     "data": {
      "text/html": [
       "<div>\n",
       "<style scoped>\n",
       "    .dataframe tbody tr th:only-of-type {\n",
       "        vertical-align: middle;\n",
       "    }\n",
       "\n",
       "    .dataframe tbody tr th {\n",
       "        vertical-align: top;\n",
       "    }\n",
       "\n",
       "    .dataframe thead th {\n",
       "        text-align: right;\n",
       "    }\n",
       "</style>\n",
       "<table border=\"1\" class=\"dataframe\">\n",
       "  <thead>\n",
       "    <tr style=\"text-align: right;\">\n",
       "      <th></th>\n",
       "      <th>Name</th>\n",
       "      <th>Track</th>\n",
       "      <th>Electronics</th>\n",
       "    </tr>\n",
       "  </thead>\n",
       "  <tbody>\n",
       "    <tr>\n",
       "      <th>1</th>\n",
       "      <td>S2</td>\n",
       "      <td>Communication</td>\n",
       "      <td>75</td>\n",
       "    </tr>\n",
       "    <tr>\n",
       "      <th>2</th>\n",
       "      <td>S3</td>\n",
       "      <td>Instrumentation</td>\n",
       "      <td>74</td>\n",
       "    </tr>\n",
       "    <tr>\n",
       "      <th>14</th>\n",
       "      <td>S15</td>\n",
       "      <td>Microelectronics</td>\n",
       "      <td>41</td>\n",
       "    </tr>\n",
       "    <tr>\n",
       "      <th>16</th>\n",
       "      <td>S17</td>\n",
       "      <td>Microelectronics</td>\n",
       "      <td>79</td>\n",
       "    </tr>\n",
       "    <tr>\n",
       "      <th>19</th>\n",
       "      <td>S20</td>\n",
       "      <td>Communication</td>\n",
       "      <td>60</td>\n",
       "    </tr>\n",
       "  </tbody>\n",
       "</table>\n",
       "</div>"
      ],
      "text/plain": [
       "   Name             Track  Electronics\n",
       "1    S2     Communication           75\n",
       "2    S3   Instrumentation           74\n",
       "14  S15  Microelectronics           41\n",
       "16  S17  Microelectronics           79\n",
       "19  S20     Communication           60"
      ]
     },
     "execution_count": 11,
     "metadata": {},
     "output_type": "execute_result"
    }
   ],
   "source": [
    "Mindy = BoardScores.loc[ (BoardScores['Average']>=55)&\n",
    "                         (BoardScores['Hometown']=='Mindanao')&\n",
    "                         (BoardScores['Gender']=='Female')\n",
    "                         ,['Name','Track','Electronics']]\n",
    "Mindy"
   ]
  },
  {
   "cell_type": "markdown",
   "id": "1a3303f9-a132-44ec-831b-b8aca099bd0e",
   "metadata": {},
   "source": [
    "#### Visualize data"
   ]
  },
  {
   "cell_type": "markdown",
   "id": "1901a3e6-987a-4900-9620-2ac197db0983",
   "metadata": {},
   "source": [
    "We first create a figure then give it x and y axes then make a graph for each condition"
   ]
  },
  {
   "cell_type": "code",
   "execution_count": 18,
   "id": "f4163f01-11c2-476b-a7dc-8d73552f0119",
   "metadata": {},
   "outputs": [
    {
     "data": {
      "text/plain": [
       "<BarContainer object of 30 artists>"
      ]
     },
     "execution_count": 18,
     "metadata": {},
     "output_type": "execute_result"
    },
    {
     "data": {
      "image/png": "[encoded data removed]",
      "text/plain": [
       "<Figure size 500x500 with 1 Axes>"
      ]
     },
     "metadata": {},
     "output_type": "display_data"
    }
   ],
   "source": [
    "plt.figure(figsize=(5,5))\n",
    "plt.bar(BoardScores['Track'],BoardScores['Average'])"
   ]
  },
  {
   "cell_type": "code",
   "execution_count": 20,
   "id": "7dc813f0-81fa-4f9e-8062-bbc81184f0f1",
   "metadata": {},
   "outputs": [
    {
     "data": {
      "text/plain": [
       "<BarContainer object of 30 artists>"
      ]
     },
     "execution_count": 20,
     "metadata": {},
     "output_type": "execute_result"
    },
    {
     "data": {
      "image/png": "[encoded data removed]",
      "text/plain": [
       "<Figure size 300x500 with 1 Axes>"
      ]
     },
     "metadata": {},
     "output_type": "display_data"
    }
   ],
   "source": [
    "plt.figure(figsize=(3,5))\n",
    "plt.bar(BoardScores['Gender'],BoardScores['Average'])"
   ]
  },
  {
   "cell_type": "code",
   "execution_count": 22,
   "id": "dab6b0c4-45b7-4d2d-b2c0-71b44e2f5c16",
   "metadata": {},
   "outputs": [
    {
     "data": {
      "text/plain": [
       "<BarContainer object of 30 artists>"
      ]
     },
     "execution_count": 22,
     "metadata": {},
     "output_type": "execute_result"
    },
    {
     "data": {
      "image/png": "[encoded data removed]",
      "text/plain": [
       "<Figure size 500x500 with 1 Axes>"
      ]
     },
     "metadata": {},
     "output_type": "display_data"
    }
   ],
   "source": [
    "plt.figure(figsize=(5,5))\n",
    "plt.bar(BoardScores['Hometown'],BoardScores['Average'])"
   ]
  },
  {
   "cell_type": "markdown",
   "id": "3ee47f15-398c-42a6-8e98-694ce1e4e1e9",
   "metadata": {},
   "source": [
    "Anaylyzing the graphs Track,Gender, and Hometown does have some effect in the average scores of the students"
   ]
  }
 ],
 "metadata": {
  "kernelspec": {
   "display_name": "Python 3 (ipykernel)",
   "language": "python",
   "name": "python3"
  },
  "language_info": {
   "codemirror_mode": {
    "name": "ipython",
    "version": 3
   },
   "file_extension": ".py",
   "mimetype": "text/x-python",
   "name": "python",
   "nbconvert_exporter": "python",
   "pygments_lexer": "ipython3",
   "version": "3.12.4"
  }
 },
 "nbformat": 4,
 "nbformat_minor": 5
}
